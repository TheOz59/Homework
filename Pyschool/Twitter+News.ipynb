{
 "cells": [
  {
   "cell_type": "code",
   "execution_count": 61,
   "metadata": {
    "collapsed": true
   },
   "outputs": [],
   "source": [
    "import numpy as np\n",
    "import pandas as pd\n",
    "import matplotlib.pyplot as plt\n",
    "import json\n",
    "import tweepy\n",
    "import time\n",
    "import seaborn as sns\n",
    "\n",
    "from textblob import TextBlob\n",
    "from vaderSentiment.vaderSentiment import SentimentIntensityAnalyzer\n",
    "analyzer = SentimentIntensityAnalyzer()\n",
    "\n",
    "consumer_key = \"4MJnvY2SSY5rL5281cKr3kGr6\"\n",
    "consumer_secret = \"4g2QijoDt4bDKy91rEa5ol1OjpKnrAKGVdxyo579B3pn2akexs\"\n",
    "access_token = \"441292700-jAt0Uco28UMxXJjQmrUoxqP11bTQs9PZ182HUVZs\"\n",
    "access_token_secret = \"lO0vRntz6HzZmCO3LB8MeahmKTzg4FA9ZDoSqY6727fJG\""
   ]
  },
  {
   "cell_type": "code",
   "execution_count": 52,
   "metadata": {
    "collapsed": true
   },
   "outputs": [],
   "source": [
    "# Setup Tweepy API Authentication\n",
    "auth = tweepy.OAuthHandler(consumer_key, consumer_secret)\n",
    "auth.set_access_token(access_token, access_token_secret)\n",
    "api = tweepy.API(auth, parser=tweepy.parsers.JSONParser())\n",
    "\n",
    "# Select News Sources (Twitter Accounts)\n",
    "news_source = [\"FoxNews\", \"CNN\", \"BBCWorld\", \"CBSNews\", \"nytimes\"]"
   ]
  },
  {
   "cell_type": "code",
   "execution_count": 53,
   "metadata": {
    "collapsed": true
   },
   "outputs": [],
   "source": [
    "# Create a generic dictionary for holding all tweet information\n",
    "tweet_data = {\n",
    "    \"tweet_source\": [],\n",
    "    \"tweet_text\": [],\n",
    "    \"tweet_date\": [],\n",
    "    \"tweet_vader_score\": [],\n",
    "    \"tweet_neg_score\": [],\n",
    "    \"tweet_pos_score\": [],\n",
    "    \"tweet_neu_score\": []\n",
    "}\n",
    "\n",
    "# Grab 100 tweets from each site (total 500)\n",
    "for x in range(5):\n",
    "\n",
    "    # Loop through all news sources\n",
    "    for source in news_source:\n",
    "\n",
    "        # Grab the tweets\n",
    "        tweets = api.user_timeline(source, page=x)\n",
    "\n",
    "        # For each tweet store it into the dictionary\n",
    "        for tweet in tweets:\n",
    "            \n",
    "            # All data is grabbed from the JSON returned by Twitter\n",
    "            tweet_data[\"tweet_source\"].append(tweet[\"user\"][\"name\"])\n",
    "            tweet_data[\"tweet_text\"].append(tweet[\"text\"])\n",
    "            tweet_data[\"tweet_date\"].append(tweet[\"created_at\"])\n",
    "\n",
    "            # Run sentiment analysis on each tweet using Vader\n",
    "            tweet_data[\"tweet_vader_score\"].append(analyzer.polarity_scores(tweet[\"text\"])[\"compound\"])\n",
    "            tweet_data[\"tweet_pos_score\"].append(analyzer.polarity_scores(tweet[\"text\"])[\"pos\"])\n",
    "            tweet_data[\"tweet_neu_score\"].append(analyzer.polarity_scores(tweet[\"text\"])[\"neu\"])\n",
    "            tweet_data[\"tweet_neg_score\"].append(analyzer.polarity_scores(tweet[\"text\"])[\"neg\"]) "
   ]
  },
  {
   "cell_type": "code",
   "execution_count": 54,
   "metadata": {},
   "outputs": [
    {
     "data": {
      "text/html": [
       "<div>\n",
       "<style>\n",
       "    .dataframe thead tr:only-child th {\n",
       "        text-align: right;\n",
       "    }\n",
       "\n",
       "    .dataframe thead th {\n",
       "        text-align: left;\n",
       "    }\n",
       "\n",
       "    .dataframe tbody tr th {\n",
       "        vertical-align: top;\n",
       "    }\n",
       "</style>\n",
       "<table border=\"1\" class=\"dataframe\">\n",
       "  <thead>\n",
       "    <tr style=\"text-align: right;\">\n",
       "      <th></th>\n",
       "      <th>tweet_source</th>\n",
       "      <th>tweet_text</th>\n",
       "      <th>tweet_date</th>\n",
       "      <th>tweet_vader_score</th>\n",
       "      <th>tweet_pos_score</th>\n",
       "      <th>tweet_neu_score</th>\n",
       "      <th>tweet_neg_score</th>\n",
       "    </tr>\n",
       "  </thead>\n",
       "  <tbody>\n",
       "    <tr>\n",
       "      <th>0</th>\n",
       "      <td>Fox News</td>\n",
       "      <td>Moments ago, President @realDonaldTrump accuse...</td>\n",
       "      <td>Sat Jun 09 23:41:23 +0000 2018</td>\n",
       "      <td>-0.2960</td>\n",
       "      <td>0.000</td>\n",
       "      <td>0.864</td>\n",
       "      <td>0.136</td>\n",
       "    </tr>\n",
       "    <tr>\n",
       "      <th>1</th>\n",
       "      <td>Fox News</td>\n",
       "      <td>.@replouiegohmert: “Robert Mueller has done mo...</td>\n",
       "      <td>Sat Jun 09 23:32:44 +0000 2018</td>\n",
       "      <td>-0.5413</td>\n",
       "      <td>0.000</td>\n",
       "      <td>0.837</td>\n",
       "      <td>0.163</td>\n",
       "    </tr>\n",
       "    <tr>\n",
       "      <th>2</th>\n",
       "      <td>Fox News</td>\n",
       "      <td>Nile Gardiner: \"You have protectionist tariffs...</td>\n",
       "      <td>Sat Jun 09 23:03:37 +0000 2018</td>\n",
       "      <td>0.2263</td>\n",
       "      <td>0.091</td>\n",
       "      <td>0.909</td>\n",
       "      <td>0.000</td>\n",
       "    </tr>\n",
       "    <tr>\n",
       "      <th>3</th>\n",
       "      <td>Fox News</td>\n",
       "      <td>BREAKING: Justify wins the Belmont Stakes, ear...</td>\n",
       "      <td>Sat Jun 09 22:56:42 +0000 2018</td>\n",
       "      <td>0.5719</td>\n",
       "      <td>0.236</td>\n",
       "      <td>0.764</td>\n",
       "      <td>0.000</td>\n",
       "    </tr>\n",
       "    <tr>\n",
       "      <th>4</th>\n",
       "      <td>Fox News</td>\n",
       "      <td>Nile Gardiner on tariff tensions: \"You have al...</td>\n",
       "      <td>Sat Jun 09 22:52:49 +0000 2018</td>\n",
       "      <td>-0.4019</td>\n",
       "      <td>0.000</td>\n",
       "      <td>0.856</td>\n",
       "      <td>0.144</td>\n",
       "    </tr>\n",
       "  </tbody>\n",
       "</table>\n",
       "</div>"
      ],
      "text/plain": [
       "  tweet_source                                         tweet_text  \\\n",
       "0     Fox News  Moments ago, President @realDonaldTrump accuse...   \n",
       "1     Fox News  .@replouiegohmert: “Robert Mueller has done mo...   \n",
       "2     Fox News  Nile Gardiner: \"You have protectionist tariffs...   \n",
       "3     Fox News  BREAKING: Justify wins the Belmont Stakes, ear...   \n",
       "4     Fox News  Nile Gardiner on tariff tensions: \"You have al...   \n",
       "\n",
       "                       tweet_date  tweet_vader_score  tweet_pos_score  \\\n",
       "0  Sat Jun 09 23:41:23 +0000 2018            -0.2960            0.000   \n",
       "1  Sat Jun 09 23:32:44 +0000 2018            -0.5413            0.000   \n",
       "2  Sat Jun 09 23:03:37 +0000 2018             0.2263            0.091   \n",
       "3  Sat Jun 09 22:56:42 +0000 2018             0.5719            0.236   \n",
       "4  Sat Jun 09 22:52:49 +0000 2018            -0.4019            0.000   \n",
       "\n",
       "   tweet_neu_score  tweet_neg_score  \n",
       "0            0.864            0.136  \n",
       "1            0.837            0.163  \n",
       "2            0.909            0.000  \n",
       "3            0.764            0.000  \n",
       "4            0.856            0.144  "
      ]
     },
     "execution_count": 54,
     "metadata": {},
     "output_type": "execute_result"
    }
   ],
   "source": [
    "tweet_df = pd.DataFrame(tweet_data, columns=[\"tweet_source\", \n",
    "                                             \"tweet_text\", \n",
    "                                             \"tweet_date\",\n",
    "                                             \"tweet_vader_score\",\n",
    "                                             \"tweet_pos_score\",\n",
    "                                             \"tweet_neu_score\",\n",
    "                                             \"tweet_neg_score\"])\n",
    "\n",
    "# Export to CSV\n",
    "#file_name = str(time.strftime(\"%m-%d-%y\")) + \"-tweets.csv\"\n",
    "#tweet_df.to_csv(\"analysis/\" + file_name, encoding=\"utf-8\")\n",
    "\n",
    "# Visualize the DataFrame\n",
    "tweet_df.head()"
   ]
  },
  {
   "cell_type": "code",
   "execution_count": 55,
   "metadata": {},
   "outputs": [
    {
     "data": {
      "text/plain": [
       "tweet_source         500\n",
       "tweet_text           500\n",
       "tweet_date           500\n",
       "tweet_vader_score    500\n",
       "tweet_pos_score      500\n",
       "tweet_neu_score      500\n",
       "tweet_neg_score      500\n",
       "dtype: int64"
      ]
     },
     "execution_count": 55,
     "metadata": {},
     "output_type": "execute_result"
    }
   ],
   "source": [
    "# Count the total number of tweets\n",
    "tweet_df.count()"
   ]
  },
  {
   "cell_type": "code",
   "execution_count": 56,
   "metadata": {},
   "outputs": [
    {
     "data": {
      "text/plain": [
       "array(['Fox News', 'CNN', 'BBC News (World)', 'CBS News',\n",
       "       'The New York Times'], dtype=object)"
      ]
     },
     "execution_count": 56,
     "metadata": {},
     "output_type": "execute_result"
    }
   ],
   "source": [
    "# Obtain the source names for reference\n",
    "tweet_df[\"tweet_source\"].unique()"
   ]
  },
  {
   "cell_type": "code",
   "execution_count": 57,
   "metadata": {},
   "outputs": [
    {
     "data": {
      "text/html": [
       "<div>\n",
       "<style>\n",
       "    .dataframe thead tr:only-child th {\n",
       "        text-align: right;\n",
       "    }\n",
       "\n",
       "    .dataframe thead th {\n",
       "        text-align: left;\n",
       "    }\n",
       "\n",
       "    .dataframe tbody tr th {\n",
       "        vertical-align: top;\n",
       "    }\n",
       "</style>\n",
       "<table border=\"1\" class=\"dataframe\">\n",
       "  <thead>\n",
       "    <tr style=\"text-align: right;\">\n",
       "      <th></th>\n",
       "      <th>tweet_source</th>\n",
       "      <th>tweet_text</th>\n",
       "      <th>tweet_date</th>\n",
       "      <th>tweet_vader_score</th>\n",
       "      <th>tweet_pos_score</th>\n",
       "      <th>tweet_neu_score</th>\n",
       "      <th>tweet_neg_score</th>\n",
       "    </tr>\n",
       "  </thead>\n",
       "  <tbody>\n",
       "    <tr>\n",
       "      <th>0</th>\n",
       "      <td>BBC News (World)</td>\n",
       "      <td>Turkey is holding early elections so why does ...</td>\n",
       "      <td>2018-06-08 09:12:06</td>\n",
       "      <td>0.0258</td>\n",
       "      <td>0.055</td>\n",
       "      <td>0.945</td>\n",
       "      <td>0.000</td>\n",
       "    </tr>\n",
       "    <tr>\n",
       "      <th>1</th>\n",
       "      <td>BBC News (World)</td>\n",
       "      <td>Trump-Kim summit: S Korean reporters arrested ...</td>\n",
       "      <td>2018-06-08 09:32:25</td>\n",
       "      <td>-0.4767</td>\n",
       "      <td>0.000</td>\n",
       "      <td>0.721</td>\n",
       "      <td>0.279</td>\n",
       "    </tr>\n",
       "    <tr>\n",
       "      <th>2</th>\n",
       "      <td>BBC News (World)</td>\n",
       "      <td>\"Who could survive this heat?\" \\nEddie Santiag...</td>\n",
       "      <td>2018-06-08 09:35:22</td>\n",
       "      <td>0.0000</td>\n",
       "      <td>0.000</td>\n",
       "      <td>1.000</td>\n",
       "      <td>0.000</td>\n",
       "    </tr>\n",
       "    <tr>\n",
       "      <th>3</th>\n",
       "      <td>BBC News (World)</td>\n",
       "      <td>RT @bbcworldservice: What's happening to Botsw...</td>\n",
       "      <td>2018-06-08 09:47:46</td>\n",
       "      <td>0.0000</td>\n",
       "      <td>0.000</td>\n",
       "      <td>1.000</td>\n",
       "      <td>0.000</td>\n",
       "    </tr>\n",
       "    <tr>\n",
       "      <th>4</th>\n",
       "      <td>BBC News (World)</td>\n",
       "      <td>Lullaby written for school-shooting drills htt...</td>\n",
       "      <td>2018-06-08 09:53:26</td>\n",
       "      <td>0.0000</td>\n",
       "      <td>0.000</td>\n",
       "      <td>1.000</td>\n",
       "      <td>0.000</td>\n",
       "    </tr>\n",
       "  </tbody>\n",
       "</table>\n",
       "</div>"
      ],
      "text/plain": [
       "       tweet_source                                         tweet_text  \\\n",
       "0  BBC News (World)  Turkey is holding early elections so why does ...   \n",
       "1  BBC News (World)  Trump-Kim summit: S Korean reporters arrested ...   \n",
       "2  BBC News (World)  \"Who could survive this heat?\" \\nEddie Santiag...   \n",
       "3  BBC News (World)  RT @bbcworldservice: What's happening to Botsw...   \n",
       "4  BBC News (World)  Lullaby written for school-shooting drills htt...   \n",
       "\n",
       "           tweet_date  tweet_vader_score  tweet_pos_score  tweet_neu_score  \\\n",
       "0 2018-06-08 09:12:06             0.0258            0.055            0.945   \n",
       "1 2018-06-08 09:32:25            -0.4767            0.000            0.721   \n",
       "2 2018-06-08 09:35:22             0.0000            0.000            1.000   \n",
       "3 2018-06-08 09:47:46             0.0000            0.000            1.000   \n",
       "4 2018-06-08 09:53:26             0.0000            0.000            1.000   \n",
       "\n",
       "   tweet_neg_score  \n",
       "0            0.000  \n",
       "1            0.279  \n",
       "2            0.000  \n",
       "3            0.000  \n",
       "4            0.000  "
      ]
     },
     "execution_count": 57,
     "metadata": {},
     "output_type": "execute_result"
    }
   ],
   "source": [
    "# Convert dates (currently strings) into datetimes\n",
    "tweet_df[\"tweet_date\"] = pd.to_datetime(tweet_df[\"tweet_date\"])\n",
    "\n",
    "# Sort the dataframe by date\n",
    "tweet_df.sort_values(\"tweet_date\", inplace=True)\n",
    "tweet_df.reset_index(drop=True, inplace=True)\n",
    "\n",
    "# Preview the data to confirm data is sorted\n",
    "tweet_df.head()"
   ]
  },
  {
   "cell_type": "code",
   "execution_count": 58,
   "metadata": {},
   "outputs": [
    {
     "data": {
      "image/png": "[encoded data removed]",
      "text/plain": [
       "<matplotlib.figure.Figure at 0x1149d6048>"
      ]
     },
     "metadata": {},
     "output_type": "display_data"
    }
   ],
   "source": [
    "# Build scatter plot for tracking tweet polarity by tweet history\n",
    "# Note how a few data munging tricks were used to obtain (-100 -> 0 tick marks)\n",
    "plt.scatter(np.arange(-len(tweet_df[tweet_df[\"tweet_source\"] == \"BBC News (World)\"]), 0, 1), \n",
    "            tweet_df[tweet_df[\"tweet_source\"] == \"BBC News (World)\"][\"tweet_vader_score\"],\n",
    "            edgecolor=\"black\", linewidths=1, marker=\"o\", color=\"skyblue\", s=75,\n",
    "            alpha=0.8, label=\"BBC\")\n",
    "\n",
    "plt.scatter(np.arange(-len(tweet_df[tweet_df[\"tweet_source\"] == \"CBS News\"]), 0, 1), \n",
    "            tweet_df[tweet_df[\"tweet_source\"] == \"CBS News\"][\"tweet_vader_score\"],\n",
    "            edgecolor=\"black\", linewidths=1, marker=\"o\", color=\"green\", s=75,\n",
    "            alpha=0.8, label=\"CBS\")\n",
    "\n",
    "plt.scatter(np.arange(-len(tweet_df[tweet_df[\"tweet_source\"] == \"CNN\"]), 0, 1), \n",
    "            tweet_df[tweet_df[\"tweet_source\"] == \"CNN\"][\"tweet_vader_score\"],\n",
    "            edgecolor=\"black\", linewidths=1, marker=\"o\", color=\"red\", s=75,\n",
    "            alpha=0.8, label=\"CNN\")\n",
    "\n",
    "plt.scatter(np.arange(-len(tweet_df[tweet_df[\"tweet_source\"] == \"Fox News\"]), 0, 1), \n",
    "            tweet_df[tweet_df[\"tweet_source\"] == \"Fox News\"][\"tweet_vader_score\"],\n",
    "            edgecolor=\"black\", linewidths=1, marker=\"o\", color=\"b\", s=75,\n",
    "            alpha=0.8, label=\"Fox\")\n",
    "\n",
    "plt.scatter(np.arange(-len(tweet_df[tweet_df[\"tweet_source\"] == \"The New York Times\"]), 0, 1), \n",
    "            tweet_df[tweet_df[\"tweet_source\"] == \"The New York Times\"][\"tweet_vader_score\"],\n",
    "            edgecolor=\"black\", linewidths=1, marker=\"o\", color=\"gold\", s=75,\n",
    "            alpha=0.8, label=\"New York Times\")\n",
    "\n",
    "# Incorporate the other graph properties\n",
    "plt.title(\"Sentiment Analysis of Media Tweets (%s)\" % time.strftime(\"%x\"))\n",
    "plt.ylabel(\"Tweet Polarity\")\n",
    "plt.xlabel(\"Tweets Ago\")\n",
    "plt.xlim([-105, 5])\n",
    "plt.xticks([-100, -80, -60, -40, -20, 0], [100, 80, 60, 40, 20, 0])\n",
    "plt.ylim([-1.05, 1.05])\n",
    "plt.grid(True)\n",
    "\n",
    "# Create a legend\n",
    "lgnd = plt.legend(fontsize=\"small\", mode=\"Expanded\", \n",
    "                  numpoints=1, scatterpoints=1, \n",
    "                  loc=\"upper left\", bbox_to_anchor=(1,1), title=\"Media Sources\", \n",
    "                  labelspacing=0.5)\n",
    "\n",
    "# Save the figure (and account for the legend being outside the plot when saving)\n",
    "#file_name = str(time.strftime(\"%m-%d-%y\")) + \"-Fig1.png\"\n",
    "#plt.savefig(\"analysis/\" + file_name, bbox_extra_artists=(lgnd, ), bbox_inches='tight')\n",
    "\n",
    "# Show plot\n",
    "plt.show()"
   ]
  },
  {
   "cell_type": "code",
   "execution_count": 59,
   "metadata": {},
   "outputs": [
    {
     "data": {
      "text/html": [
       "<div>\n",
       "<style>\n",
       "    .dataframe thead tr:only-child th {\n",
       "        text-align: right;\n",
       "    }\n",
       "\n",
       "    .dataframe thead th {\n",
       "        text-align: left;\n",
       "    }\n",
       "\n",
       "    .dataframe tbody tr th {\n",
       "        vertical-align: top;\n",
       "    }\n",
       "</style>\n",
       "<table border=\"1\" class=\"dataframe\">\n",
       "  <thead>\n",
       "    <tr style=\"text-align: right;\">\n",
       "      <th></th>\n",
       "      <th>tweet_vader_score</th>\n",
       "    </tr>\n",
       "    <tr>\n",
       "      <th>tweet_source</th>\n",
       "      <th></th>\n",
       "    </tr>\n",
       "  </thead>\n",
       "  <tbody>\n",
       "    <tr>\n",
       "      <th>BBC News (World)</th>\n",
       "      <td>-0.018399</td>\n",
       "    </tr>\n",
       "    <tr>\n",
       "      <th>CBS News</th>\n",
       "      <td>-0.086513</td>\n",
       "    </tr>\n",
       "    <tr>\n",
       "      <th>CNN</th>\n",
       "      <td>0.109566</td>\n",
       "    </tr>\n",
       "    <tr>\n",
       "      <th>Fox News</th>\n",
       "      <td>0.057578</td>\n",
       "    </tr>\n",
       "    <tr>\n",
       "      <th>The New York Times</th>\n",
       "      <td>0.076414</td>\n",
       "    </tr>\n",
       "  </tbody>\n",
       "</table>\n",
       "</div>"
      ],
      "text/plain": [
       "                    tweet_vader_score\n",
       "tweet_source                         \n",
       "BBC News (World)            -0.018399\n",
       "CBS News                    -0.086513\n",
       "CNN                          0.109566\n",
       "Fox News                     0.057578\n",
       "The New York Times           0.076414"
      ]
     },
     "execution_count": 59,
     "metadata": {},
     "output_type": "execute_result"
    }
   ],
   "source": [
    "# Average all polarities by news source\n",
    "tweet_df_polarity = tweet_df.groupby([\"tweet_source\"]).mean()[\"tweet_vader_score\"]\n",
    "\n",
    "# View the polarities\n",
    "pd.DataFrame(tweet_df_polarity)"
   ]
  },
  {
   "cell_type": "code",
   "execution_count": 62,
   "metadata": {},
   "outputs": [
    {
     "name": "stderr",
     "output_type": "stream",
     "text": [
      "/Applications/anaconda/lib/python3.6/site-packages/matplotlib/figure.py:403: UserWarning: matplotlib is currently using a non-GUI backend, so cannot show the figure\n",
      "  \"matplotlib is currently using a non-GUI backend, \"\n"
     ]
    }
   ],
   "source": [
    "# Store all polarities in a tuple\n",
    "tweets_polarity = (tweet_df_polarity[\"BBC News (World)\"], \n",
    "                    tweet_df_polarity[\"CBS News\"], \n",
    "                    tweet_df_polarity[\"CNN\"], \n",
    "                    tweet_df_polarity[\"Fox News\"],\n",
    "                    tweet_df_polarity[\"The New York Times\"])\n",
    "\n",
    "# Generate bars for each news source\n",
    "fig, ax = plt.subplots()\n",
    "ind = np.arange(len(tweets_polarity))  \n",
    "width = 1\n",
    "rect1 = ax.bar(ind[0], tweets_polarity[0], width, color=\"skyblue\")\n",
    "rect2 = ax.bar(ind[1], tweets_polarity[1], width, color=\"green\")\n",
    "rect3 = ax.bar(ind[2], tweets_polarity[2], width, color=\"red\")\n",
    "rect4 = ax.bar(ind[3], tweets_polarity[3], width, color='blue')\n",
    "rect5 = ax.bar(ind[4], tweets_polarity[4], width, color='gold')\n",
    "\n",
    "# Generate labels for each news source\n",
    "def autolabelpos(rects):\n",
    "    # attach some text labels\n",
    "    for rect in rects:\n",
    "        height = rect.get_height()\n",
    "        ax.text(rect.get_x() + rect.get_width()/2., 1*height,\n",
    "                '+%.2f' % float(height),\n",
    "                ha='center', va='bottom')\n",
    "\n",
    "def autolabelneg(rects):\n",
    "    # attach some text labels\n",
    "    for rect in rects:\n",
    "        height = rect.get_height()\n",
    "        ax.text(rect.get_x() + rect.get_width()/2., -1*height-0.015,\n",
    "                '-%.2f' % float(height),\n",
    "                ha='center', va='bottom')\n",
    "    \n",
    "autolabelpos(rect1)\n",
    "autolabelneg(rect2)\n",
    "autolabelneg(rect3)\n",
    "autolabelpos(rect4)\n",
    "autolabelneg(rect5)\n",
    "\n",
    "# Orient widths, add labels, tick marks, etc. \n",
    "ax.set_ylabel(\"Tweet Polarity\")\n",
    "ax.set_title(\"Overall Media Sentiment based on Twitter (%s) \" % (time.strftime(\"%x\")))\n",
    "ax.set_xticks(ind + 0.5)\n",
    "ax.set_xticklabels((\"BBC\", \"CBS\", \"CNN\", \"Fox\", \"NYT\"))\n",
    "ax.set_autoscaley_on(True)\n",
    "ax.grid(False)\n",
    "\n",
    "# Save Figure\n",
    "#file_name = str(time.strftime(\"%m-%d-%y\")) + \"-Fig2.png\"\n",
    "#plt.savefig(\"analysis/\" + file_name, bbox_extra_artists=(lgnd, ), bbox_inches='tight')\n",
    "\n",
    "# Show Figure\n",
    "fig.show()"
   ]
  },
  {
   "cell_type": "code",
   "execution_count": null,
   "metadata": {
    "collapsed": true
   },
   "outputs": [],
   "source": []
  },
  {
   "cell_type": "code",
   "execution_count": null,
   "metadata": {
    "collapsed": true
   },
   "outputs": [],
   "source": []
  },
  {
   "cell_type": "code",
   "execution_count": null,
   "metadata": {
    "collapsed": true
   },
   "outputs": [],
   "source": []
  },
  {
   "cell_type": "code",
   "execution_count": null,
   "metadata": {
    "collapsed": true
   },
   "outputs": [],
   "source": []
  },
  {
   "cell_type": "code",
   "execution_count": null,
   "metadata": {
    "collapsed": true
   },
   "outputs": [],
   "source": []
  }
 ],
 "metadata": {
  "kernelspec": {
   "display_name": "Python 3",
   "language": "python",
   "name": "python3"
  },
  "language_info": {
   "codemirror_mode": {
    "name": "ipython",
    "version": 3
   },
   "file_extension": ".py",
   "mimetype": "text/x-python",
   "name": "python",
   "nbconvert_exporter": "python",
   "pygments_lexer": "ipython3",
   "version": "3.6.4"
  }
 },
 "nbformat": 4,
 "nbformat_minor": 2
}
